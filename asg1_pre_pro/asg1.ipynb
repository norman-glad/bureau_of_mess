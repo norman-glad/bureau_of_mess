{
 "cells": [
  {
   "cell_type": "code",
   "execution_count": 22,
   "metadata": {},
   "outputs": [
    {
     "name": "stdout",
     "output_type": "stream",
     "text": [
      "12\n",
      "999\n",
      "999\n"
     ]
    },
    {
     "name": "stderr",
     "output_type": "stream",
     "text": [
      "/tmp/ipykernel_16273/2272763185.py:6: FutureWarning: Series.__getitem__ treating keys as positions is deprecated. In a future version, integer keys will always be treated as labels (consistent with DataFrame behavior). To access a value by position, use `ser.iloc[pos]`\n",
      "  print(norman_f[1])   # second\n",
      "/tmp/ipykernel_16273/2272763185.py:7: FutureWarning: Series.__getitem__ treating keys as positions is deprecated. In a future version, integer keys will always be treated as labels (consistent with DataFrame behavior). To access a value by position, use `ser.iloc[pos]`\n",
      "  print(norman_f[2])  # third\n"
     ]
    }
   ],
   "source": [
    "import pandas as pd \n",
    "norman_fruits = {'apple': 10, 'windows':12, 'linux': 999, 'cherry': 30}\n",
    "\n",
    "norman_f = pd.Series(norman_fruits)\n",
    "\n",
    "print(norman_f[1])   # second\n",
    "print(norman_f[2])  # third\n",
    "norman_f2 = norman_f[1:3]\n",
    "print(norman_f2.iloc[-1])"
   ]
  },
  {
   "cell_type": "code",
   "execution_count": 23,
   "metadata": {},
   "outputs": [
    {
     "data": {
      "image/png": "[encoded data removed]",
      "text/plain": [
       "<Figure size 640x480 with 1 Axes>"
      ]
     },
     "metadata": {},
     "output_type": "display_data"
    }
   ],
   "source": [
    "import pandas as pd\n",
    "import matplotlib.pyplot as plt\n",
    "\n",
    "norman_amounts = [10, 23, 24, 30]\n",
    "date_range = pd.date_range(start=pd.Timestamp.today(), periods=4, freq='h')\n",
    "norman_rainfall_amounts_today = pd.Series(data=norman_amounts, index=date_range)\n",
    "norman_rainfall_amounts_today.plot(kind='bar', color='skyblue')\n",
    "plt.title('Rainfall Amounts Today')\n",
    "plt.xlabel('Time')\n",
    "plt.ylabel('Rainfall Amounts')\n",
    "plt.show()\n"
   ]
  },
  {
   "cell_type": "code",
   "execution_count": 27,
   "metadata": {},
   "outputs": [
    {
     "name": "stdout",
     "output_type": "stream",
     "text": [
      "  Private col\n",
      "0    private1\n",
      "1    private2\n",
      "2    private3\n",
      "                    0         1         2\n",
      "Name            Alice       Bob   Charlie\n",
      "Age                25        30        35\n",
      "Private col  private1  private2  private3\n",
      "Other_Info         i1        i2        i3\n"
     ]
    }
   ],
   "source": [
    "d5 = pd.DataFrame({\n",
    "    'Name': ['Alice', 'Someone', 'Another'],\n",
    "    'Age': [25, 30, 35],\n",
    "    'Private col': ['private1', 'private2', 'private3'],\n",
    "    'Other_Info': ['i1', 'i2', 'i3']\n",
    "})\n",
    "norman_d5= d5.copy()\n",
    "private_columns = [col for col in norman_d5.columns if \"private\" in col.lower()]\n",
    "private_df = norman_d5[private_columns]\n",
    "print(private_df)\n",
    "\n",
    "swap_private_df = norman_d5.transpose()"
   ]
  },
  {
   "cell_type": "code",
   "execution_count": 32,
   "metadata": {},
   "outputs": [
    {
     "name": "stdout",
     "output_type": "stream",
     "text": [
      "    Name  Age Private col Other_Info\n",
      "0  Alice   25    private1         i1\n"
     ]
    }
   ],
   "source": [
    "alice_data = norman_d5.query('Name == \"Alice\"')\n",
    "print(alice_data)"
   ]
  },
  {
   "cell_type": "code",
   "execution_count": 42,
   "metadata": {},
   "outputs": [
    {
     "name": "stdout",
     "output_type": "stream",
     "text": [
      "avg april: 65.75\n",
      "2% grade inc :\n",
      "            April    May   June   July\n",
      "somebody   86.70  91.80  89.76  92.82\n",
      "nobody     79.56  83.64  80.58  81.60\n",
      "anybody    93.84  96.90  95.88  97.92\n",
      "everybody   8.16   5.10   7.14   9.18\n",
      "May grades higher than 50:\n",
      "somebody    91.80\n",
      "nobody      83.64\n",
      "anybody     96.90\n",
      "Name: May, dtype: float64\n",
      "Failing students: Index(['everybody'], dtype='object')\n"
     ]
    }
   ],
   "source": [
    "data = {\n",
    "    'April': [85, 78, 92, 8],\n",
    "    'May': [90, 82, 95, 5],\n",
    "    'June': [88, 79, 94, 7],\n",
    "    'July': [91, 80, 96, 9]\n",
    "}\n",
    "students = ['somebody', 'nobody', 'anybody', 'everybody']\n",
    "norman_grades = pd.DataFrame(data, index=students)\n",
    "april_average = norman_grades['April'].mean()\n",
    "print(f\"avg april: {april_average}\")\n",
    "\n",
    "norman_grades *= 1.02\n",
    "print(\"2% grade inc :\\n\",norman_grades)\n",
    "may_50 = norman_grades[norman_grades['May'] > 50]\n",
    "print(\"May grades higher than 50:\")\n",
    "print(may_50['May'])\n",
    "\n",
    "failing_students = norman_grades[norman_grades.mean(axis=1) < 50]\n",
    "print(\"Failing students:\", failing_students.index)\n"
   ]
  },
  {
   "cell_type": "code",
   "execution_count": null,
   "metadata": {},
   "outputs": [],
   "source": []
  }
 ],
 "metadata": {
  "kernelspec": {
   "display_name": "Python 3",
   "language": "python",
   "name": "python3"
  },
  "language_info": {
   "codemirror_mode": {
    "name": "ipython",
    "version": 3
   },
   "file_extension": ".py",
   "mimetype": "text/x-python",
   "name": "python",
   "nbconvert_exporter": "python",
   "pygments_lexer": "ipython3",
   "version": "3.13.1"
  }
 },
 "nbformat": 4,
 "nbformat_minor": 2
}
